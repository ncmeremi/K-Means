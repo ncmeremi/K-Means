{
  "nbformat": 4,
  "nbformat_minor": 0,
  "metadata": {
    "colab": {
      "name": "Clustering.ipynb",
      "provenance": [],
      "authorship_tag": "ABX9TyM71tejWvcIwfSWPa4RX6Uq"
    },
    "kernelspec": {
      "name": "python3",
      "display_name": "Python 3"
    },
    "language_info": {
      "name": "python"
    }
  },
  "cells": [
    {
      "cell_type": "code",
      "metadata": {
        "id": "pzFdeoQzhAUu"
      },
      "source": [
        "import pandas as pd\n",
        "from sklearn.datasets import load_iris\n",
        "from sklearn.cluster import KMeans\n",
        "import matplotlib.pyplot as plt"
      ],
      "execution_count": 13,
      "outputs": []
    },
    {
      "cell_type": "code",
      "metadata": {
        "id": "n7nlEFMIhPiZ"
      },
      "source": [
        "# importing UCI iris dataset, included with sklearn\n",
        "iris = load_iris()\n",
        "X = pd.DataFrame(iris.data, columns=iris['feature_names'])\n",
        "data = X[['sepal length (cm)', 'sepal width (cm)', 'petal length (cm)']]"
      ],
      "execution_count": 14,
      "outputs": []
    },
    {
      "cell_type": "code",
      "metadata": {
        "colab": {
          "base_uri": "https://localhost:8080/"
        },
        "id": "lIgslEx3hSWV",
        "outputId": "f51be5c6-7ae6-4762-bb40-d7705bd5f482"
      },
      "source": [
        "sse = {}\n",
        "# trying k values of 1-5\n",
        "for k in range(1, 6):\n",
        "    print(\"K VALUE: {}\".format(k))\n",
        "    kmeans = KMeans(n_clusters=k, max_iter=100).fit(data)\n",
        "    data[\"clusters\"] = kmeans.labels_\n",
        "    #sklearn inertia - Sum of squared distances of samples to their closest cluster center.\n",
        "    sse[k] = kmeans.inertia_\n",
        "    print(\"SSE: {}\".format(sse[k]))\n",
        "    print(\"\")"
      ],
      "execution_count": 15,
      "outputs": [
        {
          "output_type": "stream",
          "text": [
            "K VALUE: 1\n",
            "SSE: 594.8006666666666\n",
            "\n",
            "K VALUE: 2\n",
            "SSE: 133.46431822602608\n",
            "\n",
            "K VALUE: 3\n",
            "SSE: 71.94591674975075\n",
            "\n",
            "K VALUE: 4\n",
            "SSE: 54.381957142857146\n",
            "\n",
            "K VALUE: 5\n",
            "SSE: 40.400457142857135\n",
            "\n"
          ],
          "name": "stdout"
        }
      ]
    },
    {
      "cell_type": "code",
      "metadata": {
        "colab": {
          "base_uri": "https://localhost:8080/",
          "height": 279
        },
        "id": "K7fzW-1_hVeb",
        "outputId": "f279fe4d-3a55-4c9b-8fab-dbbe8d22424f"
      },
      "source": [
        "# plotting elbow method chart, shows ideal k value\n",
        "plt.figure()\n",
        "plt.plot(list(sse.keys()), list(sse.values()))\n",
        "plt.xlabel(\"Cluster Number K\")\n",
        "plt.ylabel(\"SSE[K]\")\n",
        "plt.show()"
      ],
      "execution_count": 16,
      "outputs": [
        {
          "output_type": "display_data",
          "data": {
            "image/png": "[encoded data removed]",
            "text/plain": [
              "<Figure size 432x288 with 1 Axes>"
            ]
          },
          "metadata": {
            "tags": [],
            "needs_background": "light"
          }
        }
      ]
    }
  ]
}